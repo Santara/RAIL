{
 "cells": [
  {
   "cell_type": "code",
   "execution_count": 1,
   "metadata": {
    "collapsed": false
   },
   "outputs": [
    {
     "name": "stdout",
     "output_type": "stream",
     "text": [
      "\u001b[93mMKL runtime not found. Will not attempt to disable multithreaded MKL for parallel rollouts.\u001b[0m\n"
     ]
    }
   ],
   "source": [
    "import numpy as np\n",
    "from environments import rlgymenv\n",
    "import policyopt\n",
    "from policyopt import imitation, nn, rl, util"
   ]
  },
  {
   "cell_type": "code",
   "execution_count": 2,
   "metadata": {
    "collapsed": true
   },
   "outputs": [],
   "source": [
    "TINY_ARCHITECTURE = '[{\"type\": \"fc\", \"n\": 64}, {\"type\": \"nonlin\", \"func\": \"tanh\"}, {\"type\": \"fc\", \"n\": 64}, {\"type\": \"nonlin\", \"func\": \"tanh\"}]'\n"
   ]
  },
  {
   "cell_type": "code",
   "execution_count": 4,
   "metadata": {
    "collapsed": false
   },
   "outputs": [
    {
     "name": "stdout",
     "output_type": "stream",
     "text": [
      "Gym version: 0.7.3\n"
     ]
    }
   ],
   "source": [
    "mdp = rlgymenv.RLGymMDP('CartPole-v0')"
   ]
  },
  {
   "cell_type": "code",
   "execution_count": 5,
   "metadata": {
    "collapsed": false
   },
   "outputs": [
    {
     "name": "stdout",
     "output_type": "stream",
     "text": [
      "\u001b[95mLoading feedforward net specification\u001b[0m\n",
      "[\n",
      "  {\n",
      "    \"type\": \"fc\",\n",
      "    \"n\": 64\n",
      "  },\n",
      "  {\n",
      "    \"type\": \"nonlin\",\n",
      "    \"func\": \"tanh\"\n",
      "  },\n",
      "  {\n",
      "    \"type\": \"fc\",\n",
      "    \"n\": 64\n",
      "  },\n",
      "  {\n",
      "    \"type\": \"nonlin\",\n",
      "    \"func\": \"tanh\"\n",
      "  }\n",
      "]\n",
      "\u001b[95mAffine(in=4, out=64)\u001b[0m\n",
      "\u001b[95mNonlinearity(func=tanh)\u001b[0m\n",
      "\u001b[95mAffine(in=64, out=64)\u001b[0m\n",
      "\u001b[95mNonlinearity(func=tanh)\u001b[0m\n",
      "\u001b[95mAffine(in=64, out=2)\u001b[0m\n"
     ]
    }
   ],
   "source": [
    "policy_cfg = rl.GibbsPolicyConfig(\n",
    "            hidden_spec=TINY_ARCHITECTURE,\n",
    "            enable_obsnorm=True)\n",
    "policy = rl.GibbsPolicy(policy_cfg, mdp.obs_space, mdp.action_space, 'GibbsPolicy')"
   ]
  },
  {
   "cell_type": "code",
   "execution_count": 6,
   "metadata": {
    "collapsed": true
   },
   "outputs": [],
   "source": [
    "tvars = policy.get_trainable_variables()"
   ]
  },
  {
   "cell_type": "code",
   "execution_count": 10,
   "metadata": {
    "collapsed": false
   },
   "outputs": [
    {
     "data": {
      "text/plain": [
       "[/GibbsPolicy/hidden/FeedforwardNet/layer_0/AffineLayer/W,\n",
       " /GibbsPolicy/hidden/FeedforwardNet/layer_0/AffineLayer/b,\n",
       " /GibbsPolicy/hidden/FeedforwardNet/layer_2/AffineLayer/W,\n",
       " /GibbsPolicy/hidden/FeedforwardNet/layer_2/AffineLayer/b,\n",
       " /GibbsPolicy/out/AffineLayer/W,\n",
       " /GibbsPolicy/out/AffineLayer/b]"
      ]
     },
     "execution_count": 10,
     "metadata": {},
     "output_type": "execute_result"
    }
   ],
   "source": [
    "tvars"
   ]
  }
 ],
 "metadata": {
  "anaconda-cloud": {},
  "kernelspec": {
   "display_name": "Python [Root]",
   "language": "python",
   "name": "Python [Root]"
  },
  "language_info": {
   "codemirror_mode": {
    "name": "ipython",
    "version": 2
   },
   "file_extension": ".py",
   "mimetype": "text/x-python",
   "name": "python",
   "nbconvert_exporter": "python",
   "pygments_lexer": "ipython2",
   "version": "2.7.12"
  }
 },
 "nbformat": 4,
 "nbformat_minor": 0
}
